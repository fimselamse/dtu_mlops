{
 "cells": [
  {
   "cell_type": "markdown",
   "metadata": {},
   "source": [
    "# Saving and Loading Models\n",
    "\n",
    "In this notebook, I'll show you how to save and load models with PyTorch. This is important because you'll often want to load previously trained models to use in making predictions or to continue training on new data."
   ]
  },
  {
   "cell_type": "code",
   "execution_count": 8,
   "metadata": {},
   "outputs": [],
   "source": [
    "%matplotlib inline\n",
    "%config InlineBackend.figure_format = 'retina'\n",
    "\n",
    "import matplotlib.pyplot as plt\n",
    "\n",
    "import torch\n",
    "from torch import nn\n",
    "from torch import optim\n",
    "import torch.nn.functional as F\n",
    "from torchvision import datasets, transforms\n",
    "\n",
    "import helper\n",
    "import fc_model"
   ]
  },
  {
   "cell_type": "code",
   "execution_count": 9,
   "metadata": {},
   "outputs": [],
   "source": [
    "# Define a transform to normalize the data\n",
    "transform = transforms.Compose([transforms.ToTensor(),\n",
    "                                transforms.Normalize((0.5,), (0.5,))])\n",
    "# Download and load the training data\n",
    "trainset = datasets.FashionMNIST('~/.pytorch/F_MNIST_data/', download=True, train=True, transform=transform)\n",
    "trainloader = torch.utils.data.DataLoader(trainset, batch_size=64, shuffle=True)\n",
    "\n",
    "# Download and load the test data\n",
    "testset = datasets.FashionMNIST('~/.pytorch/F_MNIST_data/', download=True, train=False, transform=transform)\n",
    "testloader = torch.utils.data.DataLoader(testset, batch_size=64, shuffle=True)"
   ]
  },
  {
   "cell_type": "markdown",
   "metadata": {},
   "source": [
    "Here we can see one of the images."
   ]
  },
  {
   "cell_type": "code",
   "execution_count": 10,
   "metadata": {},
   "outputs": [
    {
     "data": {
      "image/png": "[encoded data removed]",
      "text/plain": [
       "<Figure size 432x288 with 1 Axes>"
      ]
     },
     "metadata": {
      "image/png": {
       "height": 231,
       "width": 231
      },
      "needs_background": "light"
     },
     "output_type": "display_data"
    }
   ],
   "source": [
    "image, label = next(iter(trainloader))\n",
    "helper.imshow(image[0,:]);"
   ]
  },
  {
   "cell_type": "markdown",
   "metadata": {},
   "source": [
    "# Train a network\n",
    "\n",
    "To make things more concise here, I moved the model architecture and training code from the last part to a file called `fc_model`. Importing this, we can easily create a fully-connected network with `fc_model.Network`, and train the network using `fc_model.train`. I'll use this model (once it's trained) to demonstrate how we can save and load models."
   ]
  },
  {
   "cell_type": "code",
   "execution_count": 11,
   "metadata": {},
   "outputs": [],
   "source": [
    "# Create the network, define the criterion and optimizer\n",
    "\n",
    "model = fc_model.Network(784, 10, [512, 256, 128])\n",
    "criterion = nn.NLLLoss()\n",
    "optimizer = optim.Adam(model.parameters(), lr=0.001)"
   ]
  },
  {
   "cell_type": "code",
   "execution_count": 12,
   "metadata": {},
   "outputs": [
    {
     "name": "stdout",
     "output_type": "stream",
     "text": [
      "Epoch: 1/3..  Training Loss: 1.689..  Test Loss: 0.970..  Test Accuracy: 0.663\n",
      "Epoch: 1/3..  Training Loss: 1.098..  Test Loss: 0.763..  Test Accuracy: 0.699\n",
      "Epoch: 1/3..  Training Loss: 0.870..  Test Loss: 0.664..  Test Accuracy: 0.742\n",
      "Epoch: 1/3..  Training Loss: 0.795..  Test Loss: 0.658..  Test Accuracy: 0.755\n",
      "Epoch: 1/3..  Training Loss: 0.761..  Test Loss: 0.627..  Test Accuracy: 0.766\n",
      "Epoch: 1/3..  Training Loss: 0.726..  Test Loss: 0.611..  Test Accuracy: 0.764\n",
      "Epoch: 1/3..  Training Loss: 0.693..  Test Loss: 0.584..  Test Accuracy: 0.783\n",
      "Epoch: 1/3..  Training Loss: 0.691..  Test Loss: 0.580..  Test Accuracy: 0.783\n",
      "Epoch: 1/3..  Training Loss: 0.643..  Test Loss: 0.572..  Test Accuracy: 0.793\n",
      "Epoch: 1/3..  Training Loss: 0.636..  Test Loss: 0.550..  Test Accuracy: 0.796\n",
      "Epoch: 1/3..  Training Loss: 0.620..  Test Loss: 0.529..  Test Accuracy: 0.809\n",
      "Epoch: 1/3..  Training Loss: 0.603..  Test Loss: 0.529..  Test Accuracy: 0.804\n",
      "Epoch: 1/3..  Training Loss: 0.626..  Test Loss: 0.522..  Test Accuracy: 0.812\n",
      "Epoch: 1/3..  Training Loss: 0.614..  Test Loss: 0.527..  Test Accuracy: 0.805\n",
      "Epoch: 1/3..  Training Loss: 0.594..  Test Loss: 0.504..  Test Accuracy: 0.815\n",
      "Epoch: 1/3..  Training Loss: 0.590..  Test Loss: 0.523..  Test Accuracy: 0.804\n",
      "Epoch: 1/3..  Training Loss: 0.579..  Test Loss: 0.512..  Test Accuracy: 0.814\n",
      "Epoch: 1/3..  Training Loss: 0.609..  Test Loss: 0.499..  Test Accuracy: 0.810\n",
      "Epoch: 1/3..  Training Loss: 0.606..  Test Loss: 0.496..  Test Accuracy: 0.816\n",
      "Epoch: 1/3..  Training Loss: 0.581..  Test Loss: 0.490..  Test Accuracy: 0.824\n",
      "Epoch: 1/3..  Training Loss: 0.558..  Test Loss: 0.497..  Test Accuracy: 0.821\n",
      "Epoch: 1/3..  Training Loss: 0.530..  Test Loss: 0.501..  Test Accuracy: 0.817\n",
      "Epoch: 1/3..  Training Loss: 0.528..  Test Loss: 0.482..  Test Accuracy: 0.826\n",
      "Epoch: 2/3..  Training Loss: 0.572..  Test Loss: 0.477..  Test Accuracy: 0.829\n",
      "Epoch: 2/3..  Training Loss: 0.575..  Test Loss: 0.467..  Test Accuracy: 0.827\n",
      "Epoch: 2/3..  Training Loss: 0.557..  Test Loss: 0.479..  Test Accuracy: 0.820\n",
      "Epoch: 2/3..  Training Loss: 0.564..  Test Loss: 0.483..  Test Accuracy: 0.828\n",
      "Epoch: 2/3..  Training Loss: 0.547..  Test Loss: 0.466..  Test Accuracy: 0.832\n",
      "Epoch: 2/3..  Training Loss: 0.542..  Test Loss: 0.483..  Test Accuracy: 0.823\n",
      "Epoch: 2/3..  Training Loss: 0.561..  Test Loss: 0.464..  Test Accuracy: 0.829\n",
      "Epoch: 2/3..  Training Loss: 0.520..  Test Loss: 0.454..  Test Accuracy: 0.831\n",
      "Epoch: 2/3..  Training Loss: 0.536..  Test Loss: 0.467..  Test Accuracy: 0.831\n",
      "Epoch: 2/3..  Training Loss: 0.508..  Test Loss: 0.457..  Test Accuracy: 0.833\n",
      "Epoch: 2/3..  Training Loss: 0.506..  Test Loss: 0.451..  Test Accuracy: 0.837\n",
      "Epoch: 2/3..  Training Loss: 0.563..  Test Loss: 0.455..  Test Accuracy: 0.836\n",
      "Epoch: 2/3..  Training Loss: 0.570..  Test Loss: 0.443..  Test Accuracy: 0.838\n",
      "Epoch: 2/3..  Training Loss: 0.480..  Test Loss: 0.447..  Test Accuracy: 0.836\n",
      "Epoch: 2/3..  Training Loss: 0.529..  Test Loss: 0.452..  Test Accuracy: 0.836\n",
      "Epoch: 2/3..  Training Loss: 0.537..  Test Loss: 0.460..  Test Accuracy: 0.835\n",
      "Epoch: 2/3..  Training Loss: 0.514..  Test Loss: 0.461..  Test Accuracy: 0.832\n",
      "Epoch: 2/3..  Training Loss: 0.517..  Test Loss: 0.444..  Test Accuracy: 0.841\n",
      "Epoch: 2/3..  Training Loss: 0.566..  Test Loss: 0.455..  Test Accuracy: 0.837\n",
      "Epoch: 2/3..  Training Loss: 0.539..  Test Loss: 0.463..  Test Accuracy: 0.831\n",
      "Epoch: 2/3..  Training Loss: 0.562..  Test Loss: 0.445..  Test Accuracy: 0.835\n",
      "Epoch: 2/3..  Training Loss: 0.479..  Test Loss: 0.443..  Test Accuracy: 0.838\n",
      "Epoch: 2/3..  Training Loss: 0.499..  Test Loss: 0.456..  Test Accuracy: 0.840\n",
      "Epoch: 3/3..  Training Loss: 0.518..  Test Loss: 0.448..  Test Accuracy: 0.839\n",
      "Epoch: 3/3..  Training Loss: 0.524..  Test Loss: 0.454..  Test Accuracy: 0.831\n",
      "Epoch: 3/3..  Training Loss: 0.471..  Test Loss: 0.446..  Test Accuracy: 0.835\n",
      "Epoch: 3/3..  Training Loss: 0.536..  Test Loss: 0.437..  Test Accuracy: 0.843\n",
      "Epoch: 3/3..  Training Loss: 0.485..  Test Loss: 0.434..  Test Accuracy: 0.842\n",
      "Epoch: 3/3..  Training Loss: 0.495..  Test Loss: 0.440..  Test Accuracy: 0.834\n",
      "Epoch: 3/3..  Training Loss: 0.517..  Test Loss: 0.436..  Test Accuracy: 0.841\n",
      "Epoch: 3/3..  Training Loss: 0.523..  Test Loss: 0.433..  Test Accuracy: 0.840\n",
      "Epoch: 3/3..  Training Loss: 0.534..  Test Loss: 0.428..  Test Accuracy: 0.846\n",
      "Epoch: 3/3..  Training Loss: 0.505..  Test Loss: 0.437..  Test Accuracy: 0.838\n",
      "Epoch: 3/3..  Training Loss: 0.485..  Test Loss: 0.428..  Test Accuracy: 0.844\n",
      "Epoch: 3/3..  Training Loss: 0.489..  Test Loss: 0.420..  Test Accuracy: 0.845\n",
      "Epoch: 3/3..  Training Loss: 0.519..  Test Loss: 0.428..  Test Accuracy: 0.848\n",
      "Epoch: 3/3..  Training Loss: 0.466..  Test Loss: 0.423..  Test Accuracy: 0.846\n",
      "Epoch: 3/3..  Training Loss: 0.489..  Test Loss: 0.438..  Test Accuracy: 0.838\n",
      "Epoch: 3/3..  Training Loss: 0.497..  Test Loss: 0.417..  Test Accuracy: 0.848\n",
      "Epoch: 3/3..  Training Loss: 0.493..  Test Loss: 0.435..  Test Accuracy: 0.841\n",
      "Epoch: 3/3..  Training Loss: 0.518..  Test Loss: 0.424..  Test Accuracy: 0.852\n",
      "Epoch: 3/3..  Training Loss: 0.482..  Test Loss: 0.425..  Test Accuracy: 0.847\n",
      "Epoch: 3/3..  Training Loss: 0.469..  Test Loss: 0.425..  Test Accuracy: 0.848\n",
      "Epoch: 3/3..  Training Loss: 0.444..  Test Loss: 0.426..  Test Accuracy: 0.847\n",
      "Epoch: 3/3..  Training Loss: 0.501..  Test Loss: 0.423..  Test Accuracy: 0.844\n",
      "Epoch: 3/3..  Training Loss: 0.496..  Test Loss: 0.420..  Test Accuracy: 0.844\n",
      "Epoch: 3/3..  Training Loss: 0.503..  Test Loss: 0.414..  Test Accuracy: 0.848\n"
     ]
    }
   ],
   "source": [
    "fc_model.train(model, trainloader, testloader, criterion, optimizer, epochs=3)"
   ]
  },
  {
   "cell_type": "markdown",
   "metadata": {},
   "source": [
    "## Saving and loading networks\n",
    "\n",
    "As you can imagine, it's impractical to train a network every time you need to use it. Instead, we can save trained networks then load them later to train more or use them for predictions.\n",
    "\n",
    "The parameters for PyTorch networks are stored in a model's `state_dict`. We can see the state dict contains the weight and bias matrices for each of our layers."
   ]
  },
  {
   "cell_type": "code",
   "execution_count": 13,
   "metadata": {},
   "outputs": [
    {
     "name": "stdout",
     "output_type": "stream",
     "text": [
      "Our model: \n",
      "\n",
      " Network(\n",
      "  (hidden_layers): ModuleList(\n",
      "    (0): Linear(in_features=784, out_features=512, bias=True)\n",
      "    (1): Linear(in_features=512, out_features=256, bias=True)\n",
      "    (2): Linear(in_features=256, out_features=128, bias=True)\n",
      "  )\n",
      "  (output): Linear(in_features=128, out_features=10, bias=True)\n",
      "  (dropout): Dropout(p=0.5, inplace=False)\n",
      ") \n",
      "\n",
      "The state dict keys: \n",
      "\n",
      " odict_keys(['hidden_layers.0.weight', 'hidden_layers.0.bias', 'hidden_layers.1.weight', 'hidden_layers.1.bias', 'hidden_layers.2.weight', 'hidden_layers.2.bias', 'output.weight', 'output.bias'])\n"
     ]
    }
   ],
   "source": [
    "print(\"Our model: \\n\\n\", model, '\\n')\n",
    "print(\"The state dict keys: \\n\\n\", model.state_dict().keys())"
   ]
  },
  {
   "cell_type": "markdown",
   "metadata": {},
   "source": [
    "The simplest thing to do is simply save the state dict with `torch.save`. For example, we can save it to a file `'checkpoint.pth'`."
   ]
  },
  {
   "cell_type": "code",
   "execution_count": 14,
   "metadata": {},
   "outputs": [],
   "source": [
    "torch.save(model.state_dict(), 'checkpoint.pth')"
   ]
  },
  {
   "cell_type": "markdown",
   "metadata": {},
   "source": [
    "Then we can load the state dict with `torch.load`."
   ]
  },
  {
   "cell_type": "code",
   "execution_count": 15,
   "metadata": {},
   "outputs": [
    {
     "name": "stdout",
     "output_type": "stream",
     "text": [
      "odict_keys(['hidden_layers.0.weight', 'hidden_layers.0.bias', 'hidden_layers.1.weight', 'hidden_layers.1.bias', 'hidden_layers.2.weight', 'hidden_layers.2.bias', 'output.weight', 'output.bias'])\n"
     ]
    }
   ],
   "source": [
    "state_dict = torch.load('checkpoint.pth')\n",
    "print(state_dict.keys())"
   ]
  },
  {
   "cell_type": "markdown",
   "metadata": {},
   "source": [
    "And to load the state dict in to the network, you do `model.load_state_dict(state_dict)`."
   ]
  },
  {
   "cell_type": "code",
   "execution_count": 16,
   "metadata": {},
   "outputs": [
    {
     "data": {
      "text/plain": [
       "<All keys matched successfully>"
      ]
     },
     "execution_count": 16,
     "metadata": {},
     "output_type": "execute_result"
    }
   ],
   "source": [
    "model.load_state_dict(state_dict)"
   ]
  },
  {
   "cell_type": "markdown",
   "metadata": {},
   "source": [
    "Seems pretty straightforward, but as usual it's a bit more complicated. Loading the state dict works only if the model architecture is exactly the same as the checkpoint architecture. If I create a model with a different architecture, this fails."
   ]
  },
  {
   "cell_type": "code",
   "execution_count": 17,
   "metadata": {},
   "outputs": [
    {
     "ename": "RuntimeError",
     "evalue": "Error(s) in loading state_dict for Network:\n\tsize mismatch for hidden_layers.0.weight: copying a param with shape torch.Size([512, 784]) from checkpoint, the shape in current model is torch.Size([400, 784]).\n\tsize mismatch for hidden_layers.0.bias: copying a param with shape torch.Size([512]) from checkpoint, the shape in current model is torch.Size([400]).\n\tsize mismatch for hidden_layers.1.weight: copying a param with shape torch.Size([256, 512]) from checkpoint, the shape in current model is torch.Size([200, 400]).\n\tsize mismatch for hidden_layers.1.bias: copying a param with shape torch.Size([256]) from checkpoint, the shape in current model is torch.Size([200]).\n\tsize mismatch for hidden_layers.2.weight: copying a param with shape torch.Size([128, 256]) from checkpoint, the shape in current model is torch.Size([100, 200]).\n\tsize mismatch for hidden_layers.2.bias: copying a param with shape torch.Size([128]) from checkpoint, the shape in current model is torch.Size([100]).\n\tsize mismatch for output.weight: copying a param with shape torch.Size([10, 128]) from checkpoint, the shape in current model is torch.Size([10, 100]).",
     "output_type": "error",
     "traceback": [
      "\u001b[1;31m---------------------------------------------------------------------------\u001b[0m",
      "\u001b[1;31mRuntimeError\u001b[0m                              Traceback (most recent call last)",
      "\u001b[1;32m~\\AppData\\Local\\Temp/ipykernel_8820/1721305045.py\u001b[0m in \u001b[0;36m<module>\u001b[1;34m\u001b[0m\n\u001b[0;32m      2\u001b[0m \u001b[0mmodel\u001b[0m \u001b[1;33m=\u001b[0m \u001b[0mfc_model\u001b[0m\u001b[1;33m.\u001b[0m\u001b[0mNetwork\u001b[0m\u001b[1;33m(\u001b[0m\u001b[1;36m784\u001b[0m\u001b[1;33m,\u001b[0m \u001b[1;36m10\u001b[0m\u001b[1;33m,\u001b[0m \u001b[1;33m[\u001b[0m\u001b[1;36m400\u001b[0m\u001b[1;33m,\u001b[0m \u001b[1;36m200\u001b[0m\u001b[1;33m,\u001b[0m \u001b[1;36m100\u001b[0m\u001b[1;33m]\u001b[0m\u001b[1;33m)\u001b[0m\u001b[1;33m\u001b[0m\u001b[1;33m\u001b[0m\u001b[0m\n\u001b[0;32m      3\u001b[0m \u001b[1;31m# This will throw an error because the tensor sizes are wrong!\u001b[0m\u001b[1;33m\u001b[0m\u001b[1;33m\u001b[0m\u001b[0m\n\u001b[1;32m----> 4\u001b[1;33m \u001b[0mmodel\u001b[0m\u001b[1;33m.\u001b[0m\u001b[0mload_state_dict\u001b[0m\u001b[1;33m(\u001b[0m\u001b[0mstate_dict\u001b[0m\u001b[1;33m)\u001b[0m\u001b[1;33m\u001b[0m\u001b[1;33m\u001b[0m\u001b[0m\n\u001b[0m",
      "\u001b[1;32m~\\Anaconda3\\envs\\my_env\\lib\\site-packages\\torch\\nn\\modules\\module.py\u001b[0m in \u001b[0;36mload_state_dict\u001b[1;34m(self, state_dict, strict)\u001b[0m\n\u001b[0;32m   1480\u001b[0m \u001b[1;33m\u001b[0m\u001b[0m\n\u001b[0;32m   1481\u001b[0m         \u001b[1;32mif\u001b[0m \u001b[0mlen\u001b[0m\u001b[1;33m(\u001b[0m\u001b[0merror_msgs\u001b[0m\u001b[1;33m)\u001b[0m \u001b[1;33m>\u001b[0m \u001b[1;36m0\u001b[0m\u001b[1;33m:\u001b[0m\u001b[1;33m\u001b[0m\u001b[1;33m\u001b[0m\u001b[0m\n\u001b[1;32m-> 1482\u001b[1;33m             raise RuntimeError('Error(s) in loading state_dict for {}:\\n\\t{}'.format(\n\u001b[0m\u001b[0;32m   1483\u001b[0m                                self.__class__.__name__, \"\\n\\t\".join(error_msgs)))\n\u001b[0;32m   1484\u001b[0m         \u001b[1;32mreturn\u001b[0m \u001b[0m_IncompatibleKeys\u001b[0m\u001b[1;33m(\u001b[0m\u001b[0mmissing_keys\u001b[0m\u001b[1;33m,\u001b[0m \u001b[0munexpected_keys\u001b[0m\u001b[1;33m)\u001b[0m\u001b[1;33m\u001b[0m\u001b[1;33m\u001b[0m\u001b[0m\n",
      "\u001b[1;31mRuntimeError\u001b[0m: Error(s) in loading state_dict for Network:\n\tsize mismatch for hidden_layers.0.weight: copying a param with shape torch.Size([512, 784]) from checkpoint, the shape in current model is torch.Size([400, 784]).\n\tsize mismatch for hidden_layers.0.bias: copying a param with shape torch.Size([512]) from checkpoint, the shape in current model is torch.Size([400]).\n\tsize mismatch for hidden_layers.1.weight: copying a param with shape torch.Size([256, 512]) from checkpoint, the shape in current model is torch.Size([200, 400]).\n\tsize mismatch for hidden_layers.1.bias: copying a param with shape torch.Size([256]) from checkpoint, the shape in current model is torch.Size([200]).\n\tsize mismatch for hidden_layers.2.weight: copying a param with shape torch.Size([128, 256]) from checkpoint, the shape in current model is torch.Size([100, 200]).\n\tsize mismatch for hidden_layers.2.bias: copying a param with shape torch.Size([128]) from checkpoint, the shape in current model is torch.Size([100]).\n\tsize mismatch for output.weight: copying a param with shape torch.Size([10, 128]) from checkpoint, the shape in current model is torch.Size([10, 100])."
     ]
    }
   ],
   "source": [
    "# Try this\n",
    "model = fc_model.Network(784, 10, [400, 200, 100])\n",
    "# This will throw an error because the tensor sizes are wrong!\n",
    "model.load_state_dict(state_dict)"
   ]
  },
  {
   "cell_type": "markdown",
   "metadata": {},
   "source": [
    "This means we need to rebuild the model exactly as it was when trained. Information about the model architecture needs to be saved in the checkpoint, along with the state dict. To do this, you build a dictionary with all the information you need to compeletely rebuild the model."
   ]
  },
  {
   "cell_type": "code",
   "execution_count": null,
   "metadata": {},
   "outputs": [],
   "source": [
    "checkpoint = {'input_size': 784,\n",
    "              'output_size': 10,\n",
    "              'hidden_layers': [each.out_features for each in model.hidden_layers],\n",
    "              'state_dict': model.state_dict()}\n",
    "\n",
    "torch.save(checkpoint, 'checkpoint.pth')"
   ]
  },
  {
   "cell_type": "markdown",
   "metadata": {},
   "source": [
    "Now the checkpoint has all the necessary information to rebuild the trained model. You can easily make that a function if you want. Similarly, we can write a function to load checkpoints. "
   ]
  },
  {
   "cell_type": "code",
   "execution_count": null,
   "metadata": {},
   "outputs": [],
   "source": [
    "def load_checkpoint(filepath):\n",
    "    checkpoint = torch.load(filepath)\n",
    "    model = fc_model.Network(checkpoint['input_size'],\n",
    "                             checkpoint['output_size'],\n",
    "                             checkpoint['hidden_layers'])\n",
    "    model.load_state_dict(checkpoint['state_dict'])\n",
    "    \n",
    "    return model"
   ]
  },
  {
   "cell_type": "code",
   "execution_count": null,
   "metadata": {},
   "outputs": [],
   "source": [
    "model = load_checkpoint('checkpoint.pth')\n",
    "print(model)"
   ]
  }
 ],
 "metadata": {
  "kernelspec": {
   "display_name": "Python 3",
   "language": "python",
   "name": "python3"
  },
  "language_info": {
   "codemirror_mode": {
    "name": "ipython",
    "version": 3
   },
   "file_extension": ".py",
   "mimetype": "text/x-python",
   "name": "python",
   "nbconvert_exporter": "python",
   "pygments_lexer": "ipython3",
   "version": "3.9.7"
  }
 },
 "nbformat": 4,
 "nbformat_minor": 2
}
